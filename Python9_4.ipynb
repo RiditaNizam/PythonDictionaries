{
  "nbformat": 4,
  "nbformat_minor": 0,
  "metadata": {
    "colab": {
      "name": "Python9_4.ipynb",
      "provenance": [],
      "collapsed_sections": [],
      "authorship_tag": "ABX9TyOBxBHzhUnCs62k/1tQ8ihP",
      "include_colab_link": true
    },
    "kernelspec": {
      "name": "python3",
      "display_name": "Python 3"
    }
  },
  "cells": [
    {
      "cell_type": "markdown",
      "metadata": {
        "id": "view-in-github",
        "colab_type": "text"
      },
      "source": [
        "<a href=\"https://colab.research.google.com/github/RiditaNizam/PythonDictionaries/blob/main/Python9_4.ipynb\" target=\"_parent\"><img src=\"https://colab.research.google.com/assets/colab-badge.svg\" alt=\"Open In Colab\"/></a>"
      ]
    },
    {
      "cell_type": "markdown",
      "metadata": {
        "id": "W-qBKHYlNAzr"
      },
      "source": [
        "9.4 Write a program to read through the mbox-short.txt and figure out who has sent the greatest number of mail messages. The program looks for 'From ' lines and takes the second word of those lines as the person who sent the mail. The program creates a Python dictionary that maps the sender's mail address to a count of the number of times they appear in the file. After the dictionary is produced, the program reads through the dictionary using a maximum loop to find the most prolific committer."
      ]
    },
    {
      "cell_type": "code",
      "metadata": {
        "id": "z4UFv9yAMufA"
      },
      "source": [
        "counts = dict()\n",
        "name = input(\"Enter file:\")\n",
        "handle = open(name)\n",
        "for line in handle:\n",
        "    if not line.startswith('From '):\n",
        "        continue\n",
        "    words = line.split()\n",
        "    words = words[1]\n",
        "    counts[words]=counts.get(words,0) + 1\n",
        "print(words, counts[words])"
      ],
      "execution_count": null,
      "outputs": []
    }
  ]
}